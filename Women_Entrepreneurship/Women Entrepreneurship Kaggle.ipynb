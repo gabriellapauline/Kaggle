{
 "cells": [
  {
   "cell_type": "markdown",
   "metadata": {},
   "source": [
    "# Women Entrepreurship and Labor Force\n",
    "\n"
   ]
  },
  {
   "cell_type": "markdown",
   "metadata": {},
   "source": [
    "Author: Gabriella Pauline Djojosaputro <br>\n",
    "Date: 23 Dec 2020 <br>\n",
    "Data Source: [Kaggle](https://www.kaggle.com/babyoda/women-entrepreneurship-and-labor-force)\n",
    "\n",
    "The aim of the study is to examine whether the 2015 Women's Entrepreneurship Index and Global Entrepreneurship Index show a significant difference between OECD countries that are members of the European Union and not, as well as to determine the significance of the relationship between the indexes."
   ]
  },
  {
   "cell_type": "code",
   "execution_count": 71,
   "metadata": {},
   "outputs": [],
   "source": [
    "#Importing necessary packages\n",
    "import numpy as np\n",
    "import pandas as pd\n",
    "import matplotlib.pyplot as plt\n",
    "import seaborn as sns\n",
    "import scipy.stats as st"
   ]
  },
  {
   "cell_type": "code",
   "execution_count": 4,
   "metadata": {},
   "outputs": [
    {
     "data": {
      "text/html": [
       "<div>\n",
       "<style scoped>\n",
       "    .dataframe tbody tr th:only-of-type {\n",
       "        vertical-align: middle;\n",
       "    }\n",
       "\n",
       "    .dataframe tbody tr th {\n",
       "        vertical-align: top;\n",
       "    }\n",
       "\n",
       "    .dataframe thead th {\n",
       "        text-align: right;\n",
       "    }\n",
       "</style>\n",
       "<table border=\"1\" class=\"dataframe\">\n",
       "  <thead>\n",
       "    <tr style=\"text-align: right;\">\n",
       "      <th></th>\n",
       "      <th>No</th>\n",
       "      <th>Country</th>\n",
       "      <th>Level of development</th>\n",
       "      <th>European Union Membership</th>\n",
       "      <th>Currency</th>\n",
       "      <th>Women Entrepreneurship Index</th>\n",
       "      <th>Entrepreneurship Index</th>\n",
       "      <th>Inflation rate</th>\n",
       "      <th>Female Labor Force Participation Rate</th>\n",
       "    </tr>\n",
       "  </thead>\n",
       "  <tbody>\n",
       "    <tr>\n",
       "      <th>0</th>\n",
       "      <td>4</td>\n",
       "      <td>Austria</td>\n",
       "      <td>Developed</td>\n",
       "      <td>Member</td>\n",
       "      <td>Euro</td>\n",
       "      <td>54.9</td>\n",
       "      <td>64.9</td>\n",
       "      <td>0.90</td>\n",
       "      <td>67.10</td>\n",
       "    </tr>\n",
       "    <tr>\n",
       "      <th>1</th>\n",
       "      <td>6</td>\n",
       "      <td>Belgium</td>\n",
       "      <td>Developed</td>\n",
       "      <td>Member</td>\n",
       "      <td>Euro</td>\n",
       "      <td>63.6</td>\n",
       "      <td>65.5</td>\n",
       "      <td>0.60</td>\n",
       "      <td>58.00</td>\n",
       "    </tr>\n",
       "    <tr>\n",
       "      <th>2</th>\n",
       "      <td>17</td>\n",
       "      <td>Estonia</td>\n",
       "      <td>Developed</td>\n",
       "      <td>Member</td>\n",
       "      <td>Euro</td>\n",
       "      <td>55.4</td>\n",
       "      <td>60.2</td>\n",
       "      <td>-0.88</td>\n",
       "      <td>68.50</td>\n",
       "    </tr>\n",
       "    <tr>\n",
       "      <th>3</th>\n",
       "      <td>18</td>\n",
       "      <td>Finland</td>\n",
       "      <td>Developed</td>\n",
       "      <td>Member</td>\n",
       "      <td>Euro</td>\n",
       "      <td>66.4</td>\n",
       "      <td>65.7</td>\n",
       "      <td>-0.20</td>\n",
       "      <td>67.70</td>\n",
       "    </tr>\n",
       "    <tr>\n",
       "      <th>4</th>\n",
       "      <td>19</td>\n",
       "      <td>France</td>\n",
       "      <td>Developed</td>\n",
       "      <td>Member</td>\n",
       "      <td>Euro</td>\n",
       "      <td>68.8</td>\n",
       "      <td>67.3</td>\n",
       "      <td>0.00</td>\n",
       "      <td>60.60</td>\n",
       "    </tr>\n",
       "    <tr>\n",
       "      <th>5</th>\n",
       "      <td>20</td>\n",
       "      <td>Germany</td>\n",
       "      <td>Developed</td>\n",
       "      <td>Member</td>\n",
       "      <td>Euro</td>\n",
       "      <td>63.6</td>\n",
       "      <td>67.4</td>\n",
       "      <td>0.50</td>\n",
       "      <td>69.90</td>\n",
       "    </tr>\n",
       "    <tr>\n",
       "      <th>6</th>\n",
       "      <td>22</td>\n",
       "      <td>Greece</td>\n",
       "      <td>Developed</td>\n",
       "      <td>Member</td>\n",
       "      <td>Euro</td>\n",
       "      <td>43.0</td>\n",
       "      <td>42.0</td>\n",
       "      <td>-1.70</td>\n",
       "      <td>42.50</td>\n",
       "    </tr>\n",
       "    <tr>\n",
       "      <th>7</th>\n",
       "      <td>28</td>\n",
       "      <td>Ireland</td>\n",
       "      <td>Developed</td>\n",
       "      <td>Member</td>\n",
       "      <td>Euro</td>\n",
       "      <td>64.3</td>\n",
       "      <td>65.3</td>\n",
       "      <td>-0.30</td>\n",
       "      <td>59.40</td>\n",
       "    </tr>\n",
       "    <tr>\n",
       "      <th>8</th>\n",
       "      <td>30</td>\n",
       "      <td>Italy</td>\n",
       "      <td>Developed</td>\n",
       "      <td>Member</td>\n",
       "      <td>Euro</td>\n",
       "      <td>51.4</td>\n",
       "      <td>41.3</td>\n",
       "      <td>0.00</td>\n",
       "      <td>47.20</td>\n",
       "    </tr>\n",
       "    <tr>\n",
       "      <th>9</th>\n",
       "      <td>34</td>\n",
       "      <td>Latvia</td>\n",
       "      <td>Developed</td>\n",
       "      <td>Member</td>\n",
       "      <td>Euro</td>\n",
       "      <td>56.6</td>\n",
       "      <td>54.5</td>\n",
       "      <td>0.20</td>\n",
       "      <td>66.40</td>\n",
       "    </tr>\n",
       "    <tr>\n",
       "      <th>10</th>\n",
       "      <td>35</td>\n",
       "      <td>Lithuania</td>\n",
       "      <td>Developed</td>\n",
       "      <td>Member</td>\n",
       "      <td>Euro</td>\n",
       "      <td>58.5</td>\n",
       "      <td>54.6</td>\n",
       "      <td>-0.90</td>\n",
       "      <td>66.50</td>\n",
       "    </tr>\n",
       "    <tr>\n",
       "      <th>11</th>\n",
       "      <td>39</td>\n",
       "      <td>Netherlands</td>\n",
       "      <td>Developed</td>\n",
       "      <td>Member</td>\n",
       "      <td>Euro</td>\n",
       "      <td>69.3</td>\n",
       "      <td>66.5</td>\n",
       "      <td>0.60</td>\n",
       "      <td>69.20</td>\n",
       "    </tr>\n",
       "    <tr>\n",
       "      <th>12</th>\n",
       "      <td>50</td>\n",
       "      <td>Slovakia</td>\n",
       "      <td>Developed</td>\n",
       "      <td>Member</td>\n",
       "      <td>Euro</td>\n",
       "      <td>54.8</td>\n",
       "      <td>45.4</td>\n",
       "      <td>-0.30</td>\n",
       "      <td>55.90</td>\n",
       "    </tr>\n",
       "    <tr>\n",
       "      <th>13</th>\n",
       "      <td>51</td>\n",
       "      <td>Slovenia</td>\n",
       "      <td>Developed</td>\n",
       "      <td>Member</td>\n",
       "      <td>Euro</td>\n",
       "      <td>55.9</td>\n",
       "      <td>53.1</td>\n",
       "      <td>-0.50</td>\n",
       "      <td>61.00</td>\n",
       "    </tr>\n",
       "    <tr>\n",
       "      <th>14</th>\n",
       "      <td>53</td>\n",
       "      <td>Spain</td>\n",
       "      <td>Developed</td>\n",
       "      <td>Member</td>\n",
       "      <td>Euro</td>\n",
       "      <td>52.5</td>\n",
       "      <td>49.6</td>\n",
       "      <td>-0.50</td>\n",
       "      <td>52.70</td>\n",
       "    </tr>\n",
       "    <tr>\n",
       "      <th>15</th>\n",
       "      <td>12</td>\n",
       "      <td>Croatia</td>\n",
       "      <td>Developed</td>\n",
       "      <td>Member</td>\n",
       "      <td>National Currency</td>\n",
       "      <td>49.9</td>\n",
       "      <td>40.6</td>\n",
       "      <td>-0.50</td>\n",
       "      <td>60.40</td>\n",
       "    </tr>\n",
       "    <tr>\n",
       "      <th>16</th>\n",
       "      <td>13</td>\n",
       "      <td>Denmark</td>\n",
       "      <td>Developed</td>\n",
       "      <td>Member</td>\n",
       "      <td>National Currency</td>\n",
       "      <td>69.7</td>\n",
       "      <td>71.4</td>\n",
       "      <td>0.50</td>\n",
       "      <td>70.30</td>\n",
       "    </tr>\n",
       "    <tr>\n",
       "      <th>17</th>\n",
       "      <td>24</td>\n",
       "      <td>Hungary</td>\n",
       "      <td>Developed</td>\n",
       "      <td>Member</td>\n",
       "      <td>National Currency</td>\n",
       "      <td>53.7</td>\n",
       "      <td>42.7</td>\n",
       "      <td>-0.10</td>\n",
       "      <td>57.80</td>\n",
       "    </tr>\n",
       "    <tr>\n",
       "      <th>18</th>\n",
       "      <td>44</td>\n",
       "      <td>Poland</td>\n",
       "      <td>Developed</td>\n",
       "      <td>Member</td>\n",
       "      <td>National Currency</td>\n",
       "      <td>57.7</td>\n",
       "      <td>47.4</td>\n",
       "      <td>-0.90</td>\n",
       "      <td>56.60</td>\n",
       "    </tr>\n",
       "    <tr>\n",
       "      <th>19</th>\n",
       "      <td>54</td>\n",
       "      <td>Sweden</td>\n",
       "      <td>Developed</td>\n",
       "      <td>Member</td>\n",
       "      <td>National Currency</td>\n",
       "      <td>66.7</td>\n",
       "      <td>71.8</td>\n",
       "      <td>0.00</td>\n",
       "      <td>74.00</td>\n",
       "    </tr>\n",
       "    <tr>\n",
       "      <th>20</th>\n",
       "      <td>3</td>\n",
       "      <td>Australia</td>\n",
       "      <td>Developed</td>\n",
       "      <td>Not Member</td>\n",
       "      <td>National Currency</td>\n",
       "      <td>74.8</td>\n",
       "      <td>77.6</td>\n",
       "      <td>1.50</td>\n",
       "      <td>66.80</td>\n",
       "    </tr>\n",
       "    <tr>\n",
       "      <th>21</th>\n",
       "      <td>25</td>\n",
       "      <td>Iceland</td>\n",
       "      <td>Developed</td>\n",
       "      <td>Not Member</td>\n",
       "      <td>National Currency</td>\n",
       "      <td>68.0</td>\n",
       "      <td>70.4</td>\n",
       "      <td>1.60</td>\n",
       "      <td>82.30</td>\n",
       "    </tr>\n",
       "    <tr>\n",
       "      <th>22</th>\n",
       "      <td>32</td>\n",
       "      <td>Japan</td>\n",
       "      <td>Developed</td>\n",
       "      <td>Not Member</td>\n",
       "      <td>National Currency</td>\n",
       "      <td>40.0</td>\n",
       "      <td>49.5</td>\n",
       "      <td>0.80</td>\n",
       "      <td>64.70</td>\n",
       "    </tr>\n",
       "    <tr>\n",
       "      <th>23</th>\n",
       "      <td>40</td>\n",
       "      <td>Norway</td>\n",
       "      <td>Developed</td>\n",
       "      <td>Not Member</td>\n",
       "      <td>National Currency</td>\n",
       "      <td>66.3</td>\n",
       "      <td>65.6</td>\n",
       "      <td>2.17</td>\n",
       "      <td>69.20</td>\n",
       "    </tr>\n",
       "    <tr>\n",
       "      <th>24</th>\n",
       "      <td>49</td>\n",
       "      <td>Singapore</td>\n",
       "      <td>Developed</td>\n",
       "      <td>Not Member</td>\n",
       "      <td>National Currency</td>\n",
       "      <td>59.8</td>\n",
       "      <td>68.1</td>\n",
       "      <td>-0.50</td>\n",
       "      <td>59.18</td>\n",
       "    </tr>\n",
       "    <tr>\n",
       "      <th>25</th>\n",
       "      <td>55</td>\n",
       "      <td>Switzerland</td>\n",
       "      <td>Developed</td>\n",
       "      <td>Not Member</td>\n",
       "      <td>National Currency</td>\n",
       "      <td>63.7</td>\n",
       "      <td>68.6</td>\n",
       "      <td>-1.10</td>\n",
       "      <td>74.70</td>\n",
       "    </tr>\n",
       "    <tr>\n",
       "      <th>26</th>\n",
       "      <td>56</td>\n",
       "      <td>Taiwan</td>\n",
       "      <td>Developed</td>\n",
       "      <td>Not Member</td>\n",
       "      <td>National Currency</td>\n",
       "      <td>53.4</td>\n",
       "      <td>69.1</td>\n",
       "      <td>-0.61</td>\n",
       "      <td>55.00</td>\n",
       "    </tr>\n",
       "    <tr>\n",
       "      <th>27</th>\n",
       "      <td>1</td>\n",
       "      <td>Algeria</td>\n",
       "      <td>Developing</td>\n",
       "      <td>Not Member</td>\n",
       "      <td>National Currency</td>\n",
       "      <td>27.4</td>\n",
       "      <td>30.2</td>\n",
       "      <td>4.80</td>\n",
       "      <td>18.00</td>\n",
       "    </tr>\n",
       "    <tr>\n",
       "      <th>28</th>\n",
       "      <td>2</td>\n",
       "      <td>Argentina</td>\n",
       "      <td>Developing</td>\n",
       "      <td>Not Member</td>\n",
       "      <td>National Currency</td>\n",
       "      <td>35.7</td>\n",
       "      <td>37.2</td>\n",
       "      <td>26.50</td>\n",
       "      <td>47.30</td>\n",
       "    </tr>\n",
       "    <tr>\n",
       "      <th>29</th>\n",
       "      <td>7</td>\n",
       "      <td>Bolivia</td>\n",
       "      <td>Developing</td>\n",
       "      <td>Not Member</td>\n",
       "      <td>National Currency</td>\n",
       "      <td>29.7</td>\n",
       "      <td>28.0</td>\n",
       "      <td>4.10</td>\n",
       "      <td>69.40</td>\n",
       "    </tr>\n",
       "    <tr>\n",
       "      <th>30</th>\n",
       "      <td>8</td>\n",
       "      <td>Bosnia and Herzegovina</td>\n",
       "      <td>Developing</td>\n",
       "      <td>Not Member</td>\n",
       "      <td>National Currency</td>\n",
       "      <td>31.6</td>\n",
       "      <td>28.9</td>\n",
       "      <td>-1.00</td>\n",
       "      <td>51.90</td>\n",
       "    </tr>\n",
       "    <tr>\n",
       "      <th>31</th>\n",
       "      <td>9</td>\n",
       "      <td>Brazil</td>\n",
       "      <td>Developing</td>\n",
       "      <td>Not Member</td>\n",
       "      <td>National Currency</td>\n",
       "      <td>31.1</td>\n",
       "      <td>25.8</td>\n",
       "      <td>10.67</td>\n",
       "      <td>55.90</td>\n",
       "    </tr>\n",
       "    <tr>\n",
       "      <th>32</th>\n",
       "      <td>10</td>\n",
       "      <td>China</td>\n",
       "      <td>Developing</td>\n",
       "      <td>Not Member</td>\n",
       "      <td>National Currency</td>\n",
       "      <td>38.3</td>\n",
       "      <td>36.4</td>\n",
       "      <td>1.40</td>\n",
       "      <td>62.40</td>\n",
       "    </tr>\n",
       "    <tr>\n",
       "      <th>33</th>\n",
       "      <td>11</td>\n",
       "      <td>Costa Rica</td>\n",
       "      <td>Developing</td>\n",
       "      <td>Not Member</td>\n",
       "      <td>National Currency</td>\n",
       "      <td>36.1</td>\n",
       "      <td>37.7</td>\n",
       "      <td>0.80</td>\n",
       "      <td>59.40</td>\n",
       "    </tr>\n",
       "    <tr>\n",
       "      <th>34</th>\n",
       "      <td>14</td>\n",
       "      <td>Ecuador</td>\n",
       "      <td>Developing</td>\n",
       "      <td>Not Member</td>\n",
       "      <td>National Currency</td>\n",
       "      <td>32.3</td>\n",
       "      <td>28.2</td>\n",
       "      <td>-0.50</td>\n",
       "      <td>63.50</td>\n",
       "    </tr>\n",
       "    <tr>\n",
       "      <th>35</th>\n",
       "      <td>15</td>\n",
       "      <td>Egypt</td>\n",
       "      <td>Developing</td>\n",
       "      <td>Not Member</td>\n",
       "      <td>National Currency</td>\n",
       "      <td>27.7</td>\n",
       "      <td>28.1</td>\n",
       "      <td>11.00</td>\n",
       "      <td>64.60</td>\n",
       "    </tr>\n",
       "    <tr>\n",
       "      <th>36</th>\n",
       "      <td>16</td>\n",
       "      <td>El Salvador</td>\n",
       "      <td>Developing</td>\n",
       "      <td>Not Member</td>\n",
       "      <td>National Currency</td>\n",
       "      <td>29.9</td>\n",
       "      <td>29.6</td>\n",
       "      <td>-2.25</td>\n",
       "      <td>55.70</td>\n",
       "    </tr>\n",
       "    <tr>\n",
       "      <th>37</th>\n",
       "      <td>21</td>\n",
       "      <td>Ghana</td>\n",
       "      <td>Developing</td>\n",
       "      <td>Not Member</td>\n",
       "      <td>National Currency</td>\n",
       "      <td>25.8</td>\n",
       "      <td>24.8</td>\n",
       "      <td>17.20</td>\n",
       "      <td>60.80</td>\n",
       "    </tr>\n",
       "    <tr>\n",
       "      <th>38</th>\n",
       "      <td>26</td>\n",
       "      <td>India</td>\n",
       "      <td>Developing</td>\n",
       "      <td>Not Member</td>\n",
       "      <td>National Currency</td>\n",
       "      <td>25.3</td>\n",
       "      <td>25.3</td>\n",
       "      <td>5.90</td>\n",
       "      <td>61.10</td>\n",
       "    </tr>\n",
       "    <tr>\n",
       "      <th>39</th>\n",
       "      <td>31</td>\n",
       "      <td>Jamaica</td>\n",
       "      <td>Developing</td>\n",
       "      <td>Not Member</td>\n",
       "      <td>National Currency</td>\n",
       "      <td>38.6</td>\n",
       "      <td>27.2</td>\n",
       "      <td>3.70</td>\n",
       "      <td>37.70</td>\n",
       "    </tr>\n",
       "    <tr>\n",
       "      <th>40</th>\n",
       "      <td>36</td>\n",
       "      <td>Macedonia</td>\n",
       "      <td>Developing</td>\n",
       "      <td>Not Member</td>\n",
       "      <td>National Currency</td>\n",
       "      <td>41.2</td>\n",
       "      <td>37.1</td>\n",
       "      <td>3.70</td>\n",
       "      <td>73.00</td>\n",
       "    </tr>\n",
       "    <tr>\n",
       "      <th>41</th>\n",
       "      <td>37</td>\n",
       "      <td>Malaysia</td>\n",
       "      <td>Developing</td>\n",
       "      <td>Not Member</td>\n",
       "      <td>National Currency</td>\n",
       "      <td>39.2</td>\n",
       "      <td>40.0</td>\n",
       "      <td>2.30</td>\n",
       "      <td>58.50</td>\n",
       "    </tr>\n",
       "    <tr>\n",
       "      <th>42</th>\n",
       "      <td>38</td>\n",
       "      <td>Mexico</td>\n",
       "      <td>Developing</td>\n",
       "      <td>Not Member</td>\n",
       "      <td>National Currency</td>\n",
       "      <td>42.8</td>\n",
       "      <td>30.7</td>\n",
       "      <td>2.70</td>\n",
       "      <td>44.70</td>\n",
       "    </tr>\n",
       "    <tr>\n",
       "      <th>43</th>\n",
       "      <td>42</td>\n",
       "      <td>Panama</td>\n",
       "      <td>Developing</td>\n",
       "      <td>Not Member</td>\n",
       "      <td>National Currency</td>\n",
       "      <td>36.9</td>\n",
       "      <td>32.2</td>\n",
       "      <td>0.10</td>\n",
       "      <td>67.90</td>\n",
       "    </tr>\n",
       "    <tr>\n",
       "      <th>44</th>\n",
       "      <td>43</td>\n",
       "      <td>Peru</td>\n",
       "      <td>Developing</td>\n",
       "      <td>Not Member</td>\n",
       "      <td>National Currency</td>\n",
       "      <td>43.6</td>\n",
       "      <td>30.9</td>\n",
       "      <td>3.50</td>\n",
       "      <td>63.40</td>\n",
       "    </tr>\n",
       "    <tr>\n",
       "      <th>45</th>\n",
       "      <td>47</td>\n",
       "      <td>Russia</td>\n",
       "      <td>Developing</td>\n",
       "      <td>Not Member</td>\n",
       "      <td>National Currency</td>\n",
       "      <td>35.6</td>\n",
       "      <td>31.7</td>\n",
       "      <td>15.50</td>\n",
       "      <td>65.20</td>\n",
       "    </tr>\n",
       "    <tr>\n",
       "      <th>46</th>\n",
       "      <td>48</td>\n",
       "      <td>Saudi Arabia</td>\n",
       "      <td>Developing</td>\n",
       "      <td>Not Member</td>\n",
       "      <td>National Currency</td>\n",
       "      <td>37.0</td>\n",
       "      <td>49.6</td>\n",
       "      <td>1.20</td>\n",
       "      <td>13.00</td>\n",
       "    </tr>\n",
       "    <tr>\n",
       "      <th>47</th>\n",
       "      <td>57</td>\n",
       "      <td>Thailand</td>\n",
       "      <td>Developing</td>\n",
       "      <td>Not Member</td>\n",
       "      <td>National Currency</td>\n",
       "      <td>36.6</td>\n",
       "      <td>32.1</td>\n",
       "      <td>-0.90</td>\n",
       "      <td>62.00</td>\n",
       "    </tr>\n",
       "    <tr>\n",
       "      <th>48</th>\n",
       "      <td>58</td>\n",
       "      <td>Tunisia</td>\n",
       "      <td>Developing</td>\n",
       "      <td>Not Member</td>\n",
       "      <td>National Currency</td>\n",
       "      <td>30.7</td>\n",
       "      <td>35.5</td>\n",
       "      <td>4.80</td>\n",
       "      <td>25.19</td>\n",
       "    </tr>\n",
       "    <tr>\n",
       "      <th>49</th>\n",
       "      <td>59</td>\n",
       "      <td>Turkey</td>\n",
       "      <td>Developing</td>\n",
       "      <td>Not Member</td>\n",
       "      <td>National Currency</td>\n",
       "      <td>39.3</td>\n",
       "      <td>54.6</td>\n",
       "      <td>7.70</td>\n",
       "      <td>30.40</td>\n",
       "    </tr>\n",
       "    <tr>\n",
       "      <th>50</th>\n",
       "      <td>60</td>\n",
       "      <td>Uruguay</td>\n",
       "      <td>Developing</td>\n",
       "      <td>Not Member</td>\n",
       "      <td>National Currency</td>\n",
       "      <td>44.5</td>\n",
       "      <td>41.4</td>\n",
       "      <td>8.67</td>\n",
       "      <td>68.00</td>\n",
       "    </tr>\n",
       "  </tbody>\n",
       "</table>\n",
       "</div>"
      ],
      "text/plain": [
       "    No                 Country Level of development European Union Membership  \\\n",
       "0    4                 Austria            Developed                    Member   \n",
       "1    6                 Belgium            Developed                    Member   \n",
       "2   17                 Estonia            Developed                    Member   \n",
       "3   18                 Finland            Developed                    Member   \n",
       "4   19                  France            Developed                    Member   \n",
       "5   20                 Germany            Developed                    Member   \n",
       "6   22                  Greece            Developed                    Member   \n",
       "7   28                 Ireland            Developed                    Member   \n",
       "8   30                   Italy            Developed                    Member   \n",
       "9   34                  Latvia            Developed                    Member   \n",
       "10  35               Lithuania            Developed                    Member   \n",
       "11  39             Netherlands            Developed                    Member   \n",
       "12  50                Slovakia            Developed                    Member   \n",
       "13  51                Slovenia            Developed                    Member   \n",
       "14  53                   Spain            Developed                    Member   \n",
       "15  12                 Croatia            Developed                    Member   \n",
       "16  13                 Denmark            Developed                    Member   \n",
       "17  24                 Hungary            Developed                    Member   \n",
       "18  44                  Poland            Developed                    Member   \n",
       "19  54                  Sweden            Developed                    Member   \n",
       "20   3               Australia            Developed                Not Member   \n",
       "21  25                 Iceland            Developed                Not Member   \n",
       "22  32                   Japan            Developed                Not Member   \n",
       "23  40                  Norway            Developed                Not Member   \n",
       "24  49               Singapore            Developed                Not Member   \n",
       "25  55             Switzerland            Developed                Not Member   \n",
       "26  56                  Taiwan            Developed                Not Member   \n",
       "27   1                 Algeria           Developing                Not Member   \n",
       "28   2               Argentina           Developing                Not Member   \n",
       "29   7                 Bolivia           Developing                Not Member   \n",
       "30   8  Bosnia and Herzegovina           Developing                Not Member   \n",
       "31   9                  Brazil           Developing                Not Member   \n",
       "32  10                   China           Developing                Not Member   \n",
       "33  11              Costa Rica           Developing                Not Member   \n",
       "34  14                 Ecuador           Developing                Not Member   \n",
       "35  15                   Egypt           Developing                Not Member   \n",
       "36  16             El Salvador           Developing                Not Member   \n",
       "37  21                   Ghana           Developing                Not Member   \n",
       "38  26                   India           Developing                Not Member   \n",
       "39  31                 Jamaica           Developing                Not Member   \n",
       "40  36               Macedonia           Developing                Not Member   \n",
       "41  37                Malaysia           Developing                Not Member   \n",
       "42  38                  Mexico           Developing                Not Member   \n",
       "43  42                  Panama           Developing                Not Member   \n",
       "44  43                    Peru           Developing                Not Member   \n",
       "45  47                  Russia           Developing                Not Member   \n",
       "46  48            Saudi Arabia           Developing                Not Member   \n",
       "47  57                Thailand           Developing                Not Member   \n",
       "48  58                 Tunisia           Developing                Not Member   \n",
       "49  59                  Turkey           Developing                Not Member   \n",
       "50  60                 Uruguay           Developing                Not Member   \n",
       "\n",
       "             Currency  Women Entrepreneurship Index  Entrepreneurship Index  \\\n",
       "0                Euro                          54.9                    64.9   \n",
       "1                Euro                          63.6                    65.5   \n",
       "2                Euro                          55.4                    60.2   \n",
       "3                Euro                          66.4                    65.7   \n",
       "4                Euro                          68.8                    67.3   \n",
       "5                Euro                          63.6                    67.4   \n",
       "6                Euro                          43.0                    42.0   \n",
       "7                Euro                          64.3                    65.3   \n",
       "8                Euro                          51.4                    41.3   \n",
       "9                Euro                          56.6                    54.5   \n",
       "10               Euro                          58.5                    54.6   \n",
       "11               Euro                          69.3                    66.5   \n",
       "12               Euro                          54.8                    45.4   \n",
       "13               Euro                          55.9                    53.1   \n",
       "14               Euro                          52.5                    49.6   \n",
       "15  National Currency                          49.9                    40.6   \n",
       "16  National Currency                          69.7                    71.4   \n",
       "17  National Currency                          53.7                    42.7   \n",
       "18  National Currency                          57.7                    47.4   \n",
       "19  National Currency                          66.7                    71.8   \n",
       "20  National Currency                          74.8                    77.6   \n",
       "21  National Currency                          68.0                    70.4   \n",
       "22  National Currency                          40.0                    49.5   \n",
       "23  National Currency                          66.3                    65.6   \n",
       "24  National Currency                          59.8                    68.1   \n",
       "25  National Currency                          63.7                    68.6   \n",
       "26  National Currency                          53.4                    69.1   \n",
       "27  National Currency                          27.4                    30.2   \n",
       "28  National Currency                          35.7                    37.2   \n",
       "29  National Currency                          29.7                    28.0   \n",
       "30  National Currency                          31.6                    28.9   \n",
       "31  National Currency                          31.1                    25.8   \n",
       "32  National Currency                          38.3                    36.4   \n",
       "33  National Currency                          36.1                    37.7   \n",
       "34  National Currency                          32.3                    28.2   \n",
       "35  National Currency                          27.7                    28.1   \n",
       "36  National Currency                          29.9                    29.6   \n",
       "37  National Currency                          25.8                    24.8   \n",
       "38  National Currency                          25.3                    25.3   \n",
       "39  National Currency                          38.6                    27.2   \n",
       "40  National Currency                          41.2                    37.1   \n",
       "41  National Currency                          39.2                    40.0   \n",
       "42  National Currency                          42.8                    30.7   \n",
       "43  National Currency                          36.9                    32.2   \n",
       "44  National Currency                          43.6                    30.9   \n",
       "45  National Currency                          35.6                    31.7   \n",
       "46  National Currency                          37.0                    49.6   \n",
       "47  National Currency                          36.6                    32.1   \n",
       "48  National Currency                          30.7                    35.5   \n",
       "49  National Currency                          39.3                    54.6   \n",
       "50  National Currency                          44.5                    41.4   \n",
       "\n",
       "    Inflation rate  Female Labor Force Participation Rate  \n",
       "0             0.90                                  67.10  \n",
       "1             0.60                                  58.00  \n",
       "2            -0.88                                  68.50  \n",
       "3            -0.20                                  67.70  \n",
       "4             0.00                                  60.60  \n",
       "5             0.50                                  69.90  \n",
       "6            -1.70                                  42.50  \n",
       "7            -0.30                                  59.40  \n",
       "8             0.00                                  47.20  \n",
       "9             0.20                                  66.40  \n",
       "10           -0.90                                  66.50  \n",
       "11            0.60                                  69.20  \n",
       "12           -0.30                                  55.90  \n",
       "13           -0.50                                  61.00  \n",
       "14           -0.50                                  52.70  \n",
       "15           -0.50                                  60.40  \n",
       "16            0.50                                  70.30  \n",
       "17           -0.10                                  57.80  \n",
       "18           -0.90                                  56.60  \n",
       "19            0.00                                  74.00  \n",
       "20            1.50                                  66.80  \n",
       "21            1.60                                  82.30  \n",
       "22            0.80                                  64.70  \n",
       "23            2.17                                  69.20  \n",
       "24           -0.50                                  59.18  \n",
       "25           -1.10                                  74.70  \n",
       "26           -0.61                                  55.00  \n",
       "27            4.80                                  18.00  \n",
       "28           26.50                                  47.30  \n",
       "29            4.10                                  69.40  \n",
       "30           -1.00                                  51.90  \n",
       "31           10.67                                  55.90  \n",
       "32            1.40                                  62.40  \n",
       "33            0.80                                  59.40  \n",
       "34           -0.50                                  63.50  \n",
       "35           11.00                                  64.60  \n",
       "36           -2.25                                  55.70  \n",
       "37           17.20                                  60.80  \n",
       "38            5.90                                  61.10  \n",
       "39            3.70                                  37.70  \n",
       "40            3.70                                  73.00  \n",
       "41            2.30                                  58.50  \n",
       "42            2.70                                  44.70  \n",
       "43            0.10                                  67.90  \n",
       "44            3.50                                  63.40  \n",
       "45           15.50                                  65.20  \n",
       "46            1.20                                  13.00  \n",
       "47           -0.90                                  62.00  \n",
       "48            4.80                                  25.19  \n",
       "49            7.70                                  30.40  \n",
       "50            8.67                                  68.00  "
      ]
     },
     "execution_count": 4,
     "metadata": {},
     "output_type": "execute_result"
    }
   ],
   "source": [
    "#Read data into dataframe\n",
    "data = pd.read_csv('Dataset3.csv',sep=';')\n",
    "data"
   ]
  },
  {
   "cell_type": "code",
   "execution_count": 70,
   "metadata": {},
   "outputs": [
    {
     "name": "stdout",
     "output_type": "stream",
     "text": [
      "<class 'pandas.core.frame.DataFrame'>\n",
      "RangeIndex: 51 entries, 0 to 50\n",
      "Data columns (total 9 columns):\n",
      " #   Column                                 Non-Null Count  Dtype  \n",
      "---  ------                                 --------------  -----  \n",
      " 0   No                                     51 non-null     int64  \n",
      " 1   Country                                51 non-null     object \n",
      " 2   Level of development                   51 non-null     object \n",
      " 3   European Union Membership              51 non-null     object \n",
      " 4   Currency                               51 non-null     object \n",
      " 5   Women Entrepreneurship Index           51 non-null     float64\n",
      " 6   Entrepreneurship Index                 51 non-null     float64\n",
      " 7   Inflation rate                         51 non-null     float64\n",
      " 8   Female Labor Force Participation Rate  51 non-null     float64\n",
      "dtypes: float64(4), int64(1), object(4)\n",
      "memory usage: 3.7+ KB\n"
     ]
    }
   ],
   "source": [
    "data.info()"
   ]
  },
  {
   "cell_type": "markdown",
   "metadata": {},
   "source": [
    "## Task 1:\n",
    "*Are **European Union membership** variable and **development** variable **independent from each other**?*"
   ]
  },
  {
   "cell_type": "markdown",
   "metadata": {},
   "source": [
    "Chi-square test can be used to examine association between two categorical variables. It assumes that there is no cell with less than 5 members.\n",
    "\n",
    "* H<sub>0</sub>: There is no association between European Union membership and the level development of the country\n",
    "* H<sub>1</sub>: There is an association between European Union membership and the level development of the country"
   ]
  },
  {
   "cell_type": "code",
   "execution_count": 8,
   "metadata": {},
   "outputs": [
    {
     "data": {
      "text/html": [
       "<div>\n",
       "<style scoped>\n",
       "    .dataframe tbody tr th:only-of-type {\n",
       "        vertical-align: middle;\n",
       "    }\n",
       "\n",
       "    .dataframe tbody tr th {\n",
       "        vertical-align: top;\n",
       "    }\n",
       "\n",
       "    .dataframe thead th {\n",
       "        text-align: right;\n",
       "    }\n",
       "</style>\n",
       "<table border=\"1\" class=\"dataframe\">\n",
       "  <thead>\n",
       "    <tr style=\"text-align: right;\">\n",
       "      <th>Level of development</th>\n",
       "      <th>Developed</th>\n",
       "      <th>Developing</th>\n",
       "    </tr>\n",
       "    <tr>\n",
       "      <th>European Union Membership</th>\n",
       "      <th></th>\n",
       "      <th></th>\n",
       "    </tr>\n",
       "  </thead>\n",
       "  <tbody>\n",
       "    <tr>\n",
       "      <th>Member</th>\n",
       "      <td>20</td>\n",
       "      <td>0</td>\n",
       "    </tr>\n",
       "    <tr>\n",
       "      <th>Not Member</th>\n",
       "      <td>7</td>\n",
       "      <td>24</td>\n",
       "    </tr>\n",
       "  </tbody>\n",
       "</table>\n",
       "</div>"
      ],
      "text/plain": [
       "Level of development       Developed  Developing\n",
       "European Union Membership                       \n",
       "Member                            20           0\n",
       "Not Member                         7          24"
      ]
     },
     "execution_count": 8,
     "metadata": {},
     "output_type": "execute_result"
    }
   ],
   "source": [
    "contingency = pd.crosstab(data['European Union Membership'],data['Level of development'])\n",
    "contingency"
   ]
  },
  {
   "cell_type": "markdown",
   "metadata": {},
   "source": [
    "Since the number of developing countries that is also a European Union Member is 0, correction need to be used during the chi-square test."
   ]
  },
  {
   "cell_type": "code",
   "execution_count": 31,
   "metadata": {},
   "outputs": [
    {
     "name": "stdout",
     "output_type": "stream",
     "text": [
      "Chi-squared: 26.222328629032262\n",
      "p-value: 3.042837837948524e-07\n",
      "degrees of freedom: 1\n"
     ]
    }
   ],
   "source": [
    "#Set correction to True\n",
    "chisq,p,df,expected = st.chi2_contingency(contingency,correction=True)\n",
    "print(f'Chi-squared: {chisq}')\n",
    "print(f'p-value: {p}')\n",
    "print(f'degrees of freedom: {df}')"
   ]
  },
  {
   "cell_type": "markdown",
   "metadata": {},
   "source": [
    "Since the p-value is 3.04e-07 < 0.05, we reject the null hypothesis. There is enough evidence to support that there is an association between European Union Membership and the level of development of the country."
   ]
  },
  {
   "cell_type": "code",
   "execution_count": 24,
   "metadata": {},
   "outputs": [
    {
     "data": {
      "text/html": [
       "<div>\n",
       "<style scoped>\n",
       "    .dataframe tbody tr th:only-of-type {\n",
       "        vertical-align: middle;\n",
       "    }\n",
       "\n",
       "    .dataframe tbody tr th {\n",
       "        vertical-align: top;\n",
       "    }\n",
       "\n",
       "    .dataframe thead th {\n",
       "        text-align: right;\n",
       "    }\n",
       "</style>\n",
       "<table border=\"1\" class=\"dataframe\">\n",
       "  <thead>\n",
       "    <tr style=\"text-align: right;\">\n",
       "      <th>Level of development</th>\n",
       "      <th>Developed</th>\n",
       "      <th>Developing</th>\n",
       "    </tr>\n",
       "    <tr>\n",
       "      <th>European Union Membership</th>\n",
       "      <th></th>\n",
       "      <th></th>\n",
       "    </tr>\n",
       "  </thead>\n",
       "  <tbody>\n",
       "    <tr>\n",
       "      <th>Member</th>\n",
       "      <td>9.411765</td>\n",
       "      <td>-9.411765</td>\n",
       "    </tr>\n",
       "    <tr>\n",
       "      <th>Not Member</th>\n",
       "      <td>-9.411765</td>\n",
       "      <td>9.411765</td>\n",
       "    </tr>\n",
       "  </tbody>\n",
       "</table>\n",
       "</div>"
      ],
      "text/plain": [
       "Level of development       Developed  Developing\n",
       "European Union Membership                       \n",
       "Member                      9.411765   -9.411765\n",
       "Not Member                 -9.411765    9.411765"
      ]
     },
     "execution_count": 24,
     "metadata": {},
     "output_type": "execute_result"
    }
   ],
   "source": [
    "contingency-expected"
   ]
  },
  {
   "cell_type": "markdown",
   "metadata": {},
   "source": [
    "From the difference between the observed and expected records for European Union Membership and Level of development, we see that European Union members tend to be developed countries and vice versa."
   ]
  },
  {
   "cell_type": "markdown",
   "metadata": {},
   "source": [
    "## Task 2:\n",
    "*Do the **Women Entrepreneurship Index** and **Global Entrepreneurship Index** values show a statistically significant difference between the countries that are **members of the European Union** and not?*\n",
    "\n",
    "Two hypotheses are being tested<br>\n",
    "* Hypothesis 1:<br>\n",
    "    * H<sub>0</sub>: The population average of Women Entrepreneurship Index for European Union members are equal to non-members<br>\n",
    "    * H<sub>1</sub>: The population average of Women Entrepreneurship Index for European Union members are not equal to non-members<br>\n",
    "<br>\n",
    "* Hypothesis 2:<br>\n",
    "    * H<sub>0</sub>: The population average of Entrepreneurship Index for European Union members are equal to non-members<br>\n",
    "    * H<sub>1</sub>: The population average of Entrepreneurship Index for European Union members are not equal to non-members<br>\n",
    "<br>\n"
   ]
  },
  {
   "cell_type": "code",
   "execution_count": 39,
   "metadata": {},
   "outputs": [
    {
     "data": {
      "text/plain": [
       "Not Member    31\n",
       "Member        20\n",
       "Name: European Union Membership, dtype: int64"
      ]
     },
     "execution_count": 39,
     "metadata": {},
     "output_type": "execute_result"
    }
   ],
   "source": [
    "data['European Union Membership'].value_counts()"
   ]
  },
  {
   "cell_type": "markdown",
   "metadata": {},
   "source": [
    "Because there is less than 30 members in the European Union, which does not satisfy the assumption for Central Limit Theorem, t-test should be used instead of z-test. <br><br>\n",
    "If normality assumption and equal variance assumption are not met, the non-parametric version of t-test should be used. These are going to be tested first in the following sections."
   ]
  },
  {
   "cell_type": "markdown",
   "metadata": {},
   "source": [
    "### Normal Distribution Check"
   ]
  },
  {
   "cell_type": "code",
   "execution_count": 29,
   "metadata": {},
   "outputs": [
    {
     "data": {
      "image/png": "[encoded data removed]",
      "text/plain": [
       "<Figure size 432x288 with 2 Axes>"
      ]
     },
     "metadata": {
      "needs_background": "light"
     },
     "output_type": "display_data"
    }
   ],
   "source": [
    "plt.subplots(2,1)\n",
    "plt.subplot(2,1,1)\n",
    "plt.hist(data['Women Entrepreneurship Index'],bins=10)\n",
    "plt.title('Women Entrepreneurship Index')\n",
    "plt.subplot(2,1,2)\n",
    "plt.hist(data['Entrepreneurship Index'],bins=10)\n",
    "plt.title('Entrepreneurship Index')\n",
    "plt.tight_layout()"
   ]
  },
  {
   "cell_type": "markdown",
   "metadata": {},
   "source": [
    "The histograms for both variables do not show normal distribution. The distribution shape does not look like a bell curve where the highest frequency occurs in the mean, but instead they have several peaks. <br><br>\n",
    "Statistic tests can also be used to confirm this observation. If the p-value is less than the critical value of 0.05, the distribution is not normal."
   ]
  },
  {
   "cell_type": "code",
   "execution_count": 42,
   "metadata": {},
   "outputs": [
    {
     "data": {
      "text/plain": [
       "ShapiroResult(statistic=0.9407680034637451, pvalue=0.013185255229473114)"
      ]
     },
     "execution_count": 42,
     "metadata": {},
     "output_type": "execute_result"
    }
   ],
   "source": [
    "st.shapiro(data['Women Entrepreneurship Index'])"
   ]
  },
  {
   "cell_type": "markdown",
   "metadata": {},
   "source": [
    "### Equal Variance Test\n",
    "\n",
    "Levene's test is an equal variance test with H<sub>0</sub> that the groups have equal variance. If the p-value is smaller than the critical value of 0.05, we can conclude that the variance is unequal between the groups."
   ]
  },
  {
   "cell_type": "code",
   "execution_count": 35,
   "metadata": {},
   "outputs": [
    {
     "data": {
      "text/plain": [
       "LeveneResult(statistic=1.6156309727256064, pvalue=0.20970316875798875)"
      ]
     },
     "execution_count": 35,
     "metadata": {},
     "output_type": "execute_result"
    }
   ],
   "source": [
    "#Equal Variance Test for Women Entrepreneurship Index\n",
    "st.levene(data['Women Entrepreneurship Index'][data['European Union Membership']=='Member'], \n",
    "          data['Women Entrepreneurship Index'][data['European Union Membership']=='Not Member'],\n",
    "          center='median')"
   ]
  },
  {
   "cell_type": "markdown",
   "metadata": {},
   "source": [
    "The p-value is 0.21 > 0.05, so we do not reject the null hypothesis. We conclude that the variance of Women Entrepreneurship Index in European Union members and non-members are **equal**."
   ]
  },
  {
   "cell_type": "code",
   "execution_count": 66,
   "metadata": {},
   "outputs": [
    {
     "data": {
      "text/plain": [
       "<AxesSubplot:xlabel='European Union Membership', ylabel='Women Entrepreneurship Index'>"
      ]
     },
     "execution_count": 66,
     "metadata": {},
     "output_type": "execute_result"
    },
    {
     "data": {
      "image/png": "[encoded data removed]",
      "text/plain": [
       "<Figure size 432x288 with 1 Axes>"
      ]
     },
     "metadata": {
      "needs_background": "light"
     },
     "output_type": "display_data"
    }
   ],
   "source": [
    "sns.stripplot(data=data,x='European Union Membership',y='Women Entrepreneurship Index')"
   ]
  },
  {
   "cell_type": "code",
   "execution_count": 34,
   "metadata": {},
   "outputs": [
    {
     "data": {
      "text/plain": [
       "LeveneResult(statistic=0.5931091014705794, pvalue=0.4449165957267862)"
      ]
     },
     "execution_count": 34,
     "metadata": {},
     "output_type": "execute_result"
    }
   ],
   "source": [
    "#Equal Variance Test for Entrepreneurship Index\n",
    "st.levene(data['Entrepreneurship Index'][data['European Union Membership']=='Member'], \n",
    "          data['Entrepreneurship Index'][data['European Union Membership']=='Not Member'],\n",
    "          center='median')"
   ]
  },
  {
   "cell_type": "markdown",
   "metadata": {},
   "source": [
    "The p-value is 0.45 > 0.05, so we do not reject the null hypothesis. We conclude that the variance of Entrepreneurship Index in European Union members and non-members are **equal**."
   ]
  },
  {
   "cell_type": "code",
   "execution_count": 67,
   "metadata": {},
   "outputs": [
    {
     "data": {
      "text/plain": [
       "<AxesSubplot:xlabel='European Union Membership', ylabel='Entrepreneurship Index'>"
      ]
     },
     "execution_count": 67,
     "metadata": {},
     "output_type": "execute_result"
    },
    {
     "data": {
      "image/png": "[encoded data removed]",
      "text/plain": [
       "<Figure size 432x288 with 1 Axes>"
      ]
     },
     "metadata": {
      "needs_background": "light"
     },
     "output_type": "display_data"
    }
   ],
   "source": [
    "sns.stripplot(data=data,x='European Union Membership',y='Entrepreneurship Index')"
   ]
  },
  {
   "cell_type": "markdown",
   "metadata": {},
   "source": [
    "Although the variances are equal, Women Entrepreneurship Index and Entrepreneurship Index do not have normal distribution. Therefore a non-parametric version of t-test, Mann-Whitney U test, will be used.\n"
   ]
  },
  {
   "cell_type": "markdown",
   "metadata": {},
   "source": [
    "### Mann-Whitney U Test"
   ]
  },
  {
   "cell_type": "code",
   "execution_count": 48,
   "metadata": {},
   "outputs": [
    {
     "data": {
      "text/plain": [
       "MannwhitneyuResult(statistic=84.0, pvalue=6.788175847129778e-06)"
      ]
     },
     "execution_count": 48,
     "metadata": {},
     "output_type": "execute_result"
    }
   ],
   "source": [
    "# Mann-Whitney U Test for Women Entrepreneurship Index\n",
    "st.mannwhitneyu(data['Women Entrepreneurship Index'][data['European Union Membership']=='Member'], \n",
    "          data['Women Entrepreneurship Index'][data['European Union Membership']=='Not Member'],)"
   ]
  },
  {
   "cell_type": "markdown",
   "metadata": {},
   "source": [
    "The p-value is 6.79e-06 < 0.05, so we reject the null hypothesis. We conclude that the ___Women Entrepreneurship Index of European Union members are not equal to non-members___."
   ]
  },
  {
   "cell_type": "code",
   "execution_count": 64,
   "metadata": {},
   "outputs": [
    {
     "data": {
      "text/plain": [
       "Text(0.5, 1.0, 'Women Entrepreneurship Index in European Union Members and Non-Members')"
      ]
     },
     "execution_count": 64,
     "metadata": {},
     "output_type": "execute_result"
    },
    {
     "data": {
      "image/png": "[encoded data removed]",
      "text/plain": [
       "<Figure size 432x288 with 1 Axes>"
      ]
     },
     "metadata": {
      "needs_background": "light"
     },
     "output_type": "display_data"
    }
   ],
   "source": [
    "WEIfig = sns.boxplot(data=data,x='European Union Membership',y='Women Entrepreneurship Index')\n",
    "WEIfig.set_title('Women Entrepreneurship Index in European Union Members and Non-Members')"
   ]
  },
  {
   "cell_type": "code",
   "execution_count": 47,
   "metadata": {},
   "outputs": [
    {
     "data": {
      "text/plain": [
       "MannwhitneyuResult(statistic=130.0, pvalue=0.00026689859185162853)"
      ]
     },
     "execution_count": 47,
     "metadata": {},
     "output_type": "execute_result"
    }
   ],
   "source": [
    "# Mann-Whitney U Test for Entrepreneurship Index\n",
    "st.mannwhitneyu(data['Entrepreneurship Index'][data['European Union Membership']=='Member'], \n",
    "          data['Entrepreneurship Index'][data['European Union Membership']=='Not Member'],)"
   ]
  },
  {
   "cell_type": "markdown",
   "metadata": {},
   "source": [
    "The p-value is 0.0002 < 0.05, so we reject the null hypothesis. We conclude that the ___Entrepreneurship Index of European Union members are not equal to non-members___."
   ]
  },
  {
   "cell_type": "code",
   "execution_count": 65,
   "metadata": {},
   "outputs": [
    {
     "data": {
      "text/plain": [
       "Text(0.5, 1.0, 'Entrepreneurship Index in European Union Members and Non-Members')"
      ]
     },
     "execution_count": 65,
     "metadata": {},
     "output_type": "execute_result"
    },
    {
     "data": {
      "image/png": "[encoded data removed]",
      "text/plain": [
       "<Figure size 432x288 with 1 Axes>"
      ]
     },
     "metadata": {
      "needs_background": "light"
     },
     "output_type": "display_data"
    }
   ],
   "source": [
    "EIfig = sns.boxplot(data=data,x='European Union Membership',y='Entrepreneurship Index')\n",
    "EIfig.set_title('Entrepreneurship Index in European Union Members and Non-Members')"
   ]
  },
  {
   "cell_type": "markdown",
   "metadata": {},
   "source": [
    "## Task 3:\n",
    "*Is there a statistically significant **relationship between Women's Entrepreneurship Index and Global Entrepreneurship Index values**?*\n",
    "\n",
    "* H<sub>0</sub>: There is no correlation between Women's Entrepreneurship Index and Global Entrepreneurship Index\n",
    "* H<sub>1</sub>: There is correlation between Women's Entrepreneurship Index and Global Entrepreneurship Index"
   ]
  },
  {
   "cell_type": "markdown",
   "metadata": {},
   "source": [
    "Since the variables are not normally distributed, non-parametric correlation test such as Spearman or Kendall should be used instead of Pearson. Spearman will be used in this project."
   ]
  },
  {
   "cell_type": "code",
   "execution_count": 52,
   "metadata": {},
   "outputs": [
    {
     "data": {
      "text/plain": [
       "SpearmanrResult(correlation=0.907753920181673, pvalue=4.063302480431442e-20)"
      ]
     },
     "execution_count": 52,
     "metadata": {},
     "output_type": "execute_result"
    }
   ],
   "source": [
    "st.spearmanr(data[['Women Entrepreneurship Index','Entrepreneurship Index']])"
   ]
  },
  {
   "cell_type": "markdown",
   "metadata": {},
   "source": [
    "Since the p-value is less than 0.05 (4.06e-20), we reject the null hypothesis. There is a stastically significant correlation between Women Entrepreneurship Index and Entrepreneurship Index. <br><br>\n",
    "\n",
    "The correlation value is **0.91**, indicating a ___strong positive correlation between the two variables___."
   ]
  },
  {
   "cell_type": "code",
   "execution_count": 58,
   "metadata": {},
   "outputs": [
    {
     "data": {
      "text/plain": [
       "<seaborn.axisgrid.JointGrid at 0x2bae68d6e20>"
      ]
     },
     "execution_count": 58,
     "metadata": {},
     "output_type": "execute_result"
    },
    {
     "data": {
      "image/png": "[encoded data removed]",
      "text/plain": [
       "<Figure size 432x432 with 3 Axes>"
      ]
     },
     "metadata": {
      "needs_background": "light"
     },
     "output_type": "display_data"
    }
   ],
   "source": [
    "sns.jointplot(data=data,x='Women Entrepreneurship Index',y='Entrepreneurship Index')\n"
   ]
  }
 ],
 "metadata": {
  "kernelspec": {
   "display_name": "Python 3",
   "language": "python",
   "name": "python3"
  },
  "language_info": {
   "codemirror_mode": {
    "name": "ipython",
    "version": 3
   },
   "file_extension": ".py",
   "mimetype": "text/x-python",
   "name": "python",
   "nbconvert_exporter": "python",
   "pygments_lexer": "ipython3",
   "version": "3.8.5"
  }
 },
 "nbformat": 4,
 "nbformat_minor": 4
}
